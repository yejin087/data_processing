{
 "cells": [
  {
   "cell_type": "markdown",
   "id": "f6ae272f",
   "metadata": {},
   "source": [
    "# 대중교통"
   ]
  },
  {
   "cell_type": "markdown",
   "id": "2a39578d",
   "metadata": {},
   "source": [
    "1. 유임승차 비율이 가장 높은 곳을 찾는다.  \n",
    "- 유임 승차의 비율 = 유임승차인원 / 무임승차인원  -> 유임 승차 인원/(유임+무임) 인원  \n",
    "    충무로의 경우 유무임 승차 값이 0이어서 다른 계산 방식 적용"
   ]
  },
  {
   "cell_type": "code",
   "execution_count": 31,
   "id": "8dd100f0",
   "metadata": {},
   "outputs": [
    {
     "name": "stdout",
     "output_type": "stream",
     "text": [
      "['사용월', '호선명', '역ID', '지하철역', '유임승차', '유임하차', '무임승차', '무임하차']\n"
     ]
    }
   ],
   "source": [
    "# 첫번째 계산 방식\n",
    "import csv\n",
    "\n",
    "f = open('subwayfee.csv')\n",
    "data = csv.reader(f)\n",
    "\n",
    "print(next(data)) # 반복 가능한 객체에서  다음 값을 출력\n"
   ]
  },
  {
   "cell_type": "code",
   "execution_count": 2,
   "id": "aab28bfb",
   "metadata": {},
   "outputs": [
    {
     "name": "stdout",
     "output_type": "stream",
     "text": [
      "['Nov-21', '1호선', '1', '서울역', 1086374, 1044750, 180495, 170842] 6.02\n",
      "['Nov-21', '1호선', '2', '시청', 516353, 528021, 72373, 72182] 7.13\n",
      "['Nov-21', '2호선', '11', '시청', 547821, 531320, 49350, 45066] 11.1\n",
      "['Nov-21', '2호선', '19', '한양대', 219942, 236092, 11741, 12338] 18.73\n",
      "['Nov-21', '3호선', '73', '충무로', 33, 0, 1, 0] 33.0\n",
      "33.0\n"
     ]
    }
   ],
   "source": [
    "# 첫번째 계산 방식\n",
    "mx = 0\n",
    "rate = 0\n",
    "\n",
    "for row in data:\n",
    "    for i in range(4,8): \n",
    "        row[i] = int(row[i].replace(',',\"\"))\n",
    "\n",
    "    if row[6] != 0 :\n",
    "        rate = row[4]/row[6]\n",
    "\n",
    "        if rate > mx :\n",
    "            mx = rate\n",
    "            print(row, round(rate,2))\n",
    "\n",
    "print(mx)"
   ]
  },
  {
   "cell_type": "code",
   "execution_count": 4,
   "id": "c9d4f613",
   "metadata": {},
   "outputs": [
    {
     "name": "stdout",
     "output_type": "stream",
     "text": [
      "한양대 2호선 94.93\n"
     ]
    }
   ],
   "source": [
    "#변경된 계산 방식\n",
    "mx = 0\n",
    "rate = 0\n",
    "max_station = ''\n",
    "\n",
    "for row in data:\n",
    "    for i in range(4,8): \n",
    "        row[i] = int(row[i].replace(',',\"\"))\n",
    "\n",
    "    if row[6] != 0 and (row[4]+row[6] > 100000):\n",
    "        rate = row[4] / (row[4]+row[6])\n",
    "\n",
    "        if rate > mx :\n",
    "            mx = rate\n",
    "            max_station = row[3] + ' ' + row[1]\n",
    "            \n",
    "print(max_station , round(mx*100,2))"
   ]
  },
  {
   "cell_type": "markdown",
   "id": "52945ff1",
   "metadata": {},
   "source": [
    "2. 유무임 승하차 인원이 가장 많은 역  \n",
    "  \n",
    "인원수, 승하차 역을 나타내는 공간 mx, max_station 4개 사용    \n",
    "각각의 인원에 대하여 가장 수가 큰 역을 찾는다."
   ]
  },
  {
   "cell_type": "code",
   "execution_count": 8,
   "id": "985656fc",
   "metadata": {},
   "outputs": [
    {
     "name": "stdout",
     "output_type": "stream",
     "text": [
      "[0, 0, 0, 0]\n",
      "['', '', '', '']\n"
     ]
    }
   ],
   "source": [
    "mx = [0]*4\n",
    "max_station = ['']*4\n",
    "\n",
    "print(mx)\n",
    "print(max_station)"
   ]
  },
  {
   "cell_type": "code",
   "execution_count": 9,
   "id": "6fa662b6",
   "metadata": {},
   "outputs": [
    {
     "name": "stdout",
     "output_type": "stream",
     "text": [
      "[2068581, 2106836, 272242, 263992]\n",
      "['강남 2호선', '강남 2호선', '종로3가 1호선', '제기동 1호선']\n"
     ]
    }
   ],
   "source": [
    "for row in data:\n",
    "    for i in range(4,8): \n",
    "        row[i] = int(row[i].replace(',',\"\"))\n",
    "        \n",
    "        if row[i] > mx[i-4]:\n",
    "            mx[i-4] = row[i]\n",
    "            max_station[i-4] = row[3] + ' ' + row[1]\n",
    "            \n",
    "print(mx)\n",
    "print(max_station)"
   ]
  },
  {
   "cell_type": "markdown",
   "id": "89a5f6f4",
   "metadata": {},
   "source": [
    "3. 서울역의 유무임 승하차 비율"
   ]
  },
  {
   "cell_type": "code",
   "execution_count": 32,
   "id": "59955c03",
   "metadata": {},
   "outputs": [
    {
     "data": {
      "image/png": "[encoded data removed]",
      "text/plain": [
       "<Figure size 432x288 with 1 Axes>"
      ]
     },
     "metadata": {},
     "output_type": "display_data"
    }
   ],
   "source": [
    "import matplotlib.pyplot as plt\n",
    "\n",
    "label = ['유임 승차', '유임 하차','무임 승차','무임 하차']\n",
    "c = ['#14CCC0','#389993','#FF1C6A','#CC14AF']\n",
    "plt.rc('font',family='Malgun Gothic')\n",
    "\n",
    "row = next(data)\n",
    "\n",
    "for i in range(4,8):\n",
    "    row[i] = int(row[i].replace(',',\"\"))\n",
    "    \n",
    "plt.title(row[3] + ' ' + row[1])\n",
    "plt.pie(row[4:8],labels=label, colors =c, autopct='%1.f%%')\n",
    "plt.axis('equal')\n",
    "plt.show()\n",
    "    \n",
    "            "
   ]
  },
  {
   "cell_type": "markdown",
   "id": "9f365378",
   "metadata": {},
   "source": [
    "- 지하철 시간개별 이용현황\n"
   ]
  },
  {
   "cell_type": "code",
   "execution_count": 82,
   "id": "6ad0bfb9",
   "metadata": {},
   "outputs": [
    {
     "data": {
      "image/png": "[encoded data removed]",
      "text/plain": [
       "<Figure size 432x288 with 1 Axes>"
      ]
     },
     "metadata": {},
     "output_type": "display_data"
    }
   ],
   "source": [
    "time_f = open('subwaytime.csv')\n",
    "data = csv.reader(time_f)\n",
    "\n",
    "next(data)\n",
    "next(data)\n",
    "\n",
    "result = []\n",
    "\n",
    "for row in data:\n",
    "    row[4:] = map(lambda x:int(x.replace(\",\",\"\")), row[4:])\n",
    "    result.append(row[10]) # 오전 7시 승차인원\n",
    "\n",
    "result.sort()\n",
    "plt.style.use('ggplot')\n",
    "plt.bar(range(len(result)), result)\n",
    "plt.show()\n",
    "\n"
   ]
  },
  {
   "cell_type": "code",
   "execution_count": 83,
   "id": "744e329a",
   "metadata": {},
   "outputs": [
    {
     "data": {
      "image/png": "[encoded data removed]",
      "text/plain": [
       "<Figure size 432x288 with 1 Axes>"
      ]
     },
     "metadata": {},
     "output_type": "display_data"
    }
   ],
   "source": [
    "time_f = open('subwaytime.csv')\n",
    "data = csv.reader(time_f)\n",
    "\n",
    "next(data)\n",
    "next(data)\n",
    "\n",
    "result = []\n",
    "\n",
    "for row in data:\n",
    "    row[4:] = map(lambda x:int(x.replace(\",\",\"\")), row[4:])\n",
    "    result.append(sum(row[10:15:2])) # 오전 7-9시 승차인원\n",
    "\n",
    "result.sort()\n",
    "plt.bar(range(len(result)), result)\n",
    "plt.show()\n"
   ]
  },
  {
   "cell_type": "markdown",
   "id": "e2ded701",
   "metadata": {},
   "source": [
    "- 출근 시간에 가장 많은 승차 인원이 있는 역은?"
   ]
  },
  {
   "cell_type": "code",
   "execution_count": 84,
   "id": "c10acc9d",
   "metadata": {},
   "outputs": [
    {
     "name": "stdout",
     "output_type": "stream",
     "text": [
      "신림 2호선 697158\n"
     ]
    }
   ],
   "source": [
    "time_f = open('subwaytime.csv')\n",
    "data = csv.reader(time_f)\n",
    "\n",
    "next(data)\n",
    "next(data)\n",
    "\n",
    "mx = 0 \n",
    "mx_station = ''\n",
    "\n",
    "for row in data:\n",
    "    row[4:] = map(lambda x:int(x.replace(\",\",\"\")), row[4:])\n",
    "    if sum(row[10:15:2]) > mx:# 오전 7-9시 승차인원\n",
    "        mx = sum(row[10:15:2])\n",
    "        mx_station = row[3] + ' ' + row[1]\n",
    "        \n",
    "print(mx_station , mx)"
   ]
  },
  {
   "cell_type": "markdown",
   "id": "31e26250",
   "metadata": {},
   "source": [
    "- 출근 시간 가장 많은 하차 인원이 있는 역은?"
   ]
  },
  {
   "cell_type": "code",
   "execution_count": 86,
   "id": "471c26f7",
   "metadata": {},
   "outputs": [
    {
     "name": "stdout",
     "output_type": "stream",
     "text": [
      "구로디지털단지 2호선 490785\n"
     ]
    }
   ],
   "source": [
    "time_f = open('subwaytime.csv')\n",
    "data = csv.reader(time_f)\n",
    "\n",
    "next(data)\n",
    "next(data)\n",
    "\n",
    "mx = 0 \n",
    "mx_station = ''\n",
    "\n",
    "for row in data:\n",
    "    row[4:] = map(lambda x:int(x.replace(\",\",\"\")), row[4:])\n",
    "    if sum(row[10:15:2]) > mx:# 오전 7-9시 승차인원\n",
    "        mx = sum(row[11:16:2])\n",
    "        mx_station = row[3] + ' ' + row[1]\n",
    "        \n",
    "print(mx_station , mx)"
   ]
  },
  {
   "cell_type": "markdown",
   "id": "bb5246ee",
   "metadata": {},
   "source": [
    "- 밤 11시 사람들이 가장 많이 타는 역  \n",
    "승차 시각과 인덱스 사이 관계식 : i = 4+ (t-4)*2"
   ]
  },
  {
   "cell_type": "code",
   "execution_count": 87,
   "id": "ee78658f",
   "metadata": {},
   "outputs": [
    {
     "name": "stdout",
     "output_type": "stream",
     "text": [
      "신림 2호선 77218\n"
     ]
    }
   ],
   "source": [
    "time_f = open('subwaytime.csv')\n",
    "data = csv.reader(time_f)\n",
    "\n",
    "next(data)\n",
    "next(data)\n",
    "\n",
    "mx = 0 \n",
    "mx_station = ''\n",
    "\n",
    "for row in data:\n",
    "    row[4:] = map(lambda x:int(x.replace(\",\",\"\")), row[4:])\n",
    "    a = row[18]\n",
    "    if a > mx:\n",
    "        mx = a\n",
    "        mx_station = row[3] + ' ' + row[1]\n",
    "print(mx_station , mx)"
   ]
  },
  {
   "cell_type": "code",
   "execution_count": null,
   "id": "16f8b378",
   "metadata": {},
   "outputs": [],
   "source": []
  }
 ],
 "metadata": {
  "kernelspec": {
   "display_name": "Python 3",
   "language": "python",
   "name": "python3"
  },
  "language_info": {
   "codemirror_mode": {
    "name": "ipython",
    "version": 3
   },
   "file_extension": ".py",
   "mimetype": "text/x-python",
   "name": "python",
   "nbconvert_exporter": "python",
   "pygments_lexer": "ipython3",
   "version": "3.8.8"
  }
 },
 "nbformat": 4,
 "nbformat_minor": 5
}
