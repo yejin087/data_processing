{
 "cells": [
  {
   "cell_type": "markdown",
   "metadata": {},
   "source": [
    "# Module\n",
    "\n",
    "- 프로그램에서 작은 프로그램 조각\n",
    "모듈들을 모아서 하나의 큰 프로그램을 개발한다. -> Package\n",
    "\n",
    "- 프로그램을 모듈화 하면 다른 프로그램이 사용하기 쉬움 \n",
    "\n",
    "- 파이썬의 module == .py 파일  \n",
    "- import 문을 사용햐서 module 호출  \n",
    "- import 파일명   \n",
    "     파일명.함수명  \n",
    "     \n",
    "     \n",
    "- 모둘을 호출할 때 범위 정하는 방법  - > from 과 import 사용  \n",
    "모듈 안에는 함수와 클래스 등이 존재 가능  \n",
    "필요한 내용만 호출할 수 있다.  \n",
    "\n",
    " 1. alias 설정하기. 모듈명을 별칭으로 사용  \n",
    "     import fah_converter as fah \n",
    "    \n",
    " 2.  모듈에서 특정함수 또는 클래스만 호출하기  \n",
    "     from 파일명 import 함수명  \n",
    "     \n",
    " 3. 모듈에서 모든 함수 또는 클래스 호출  \n",
    "      from 파일명 import *\n",
    "  "
   ]
  },
  {
   "cell_type": "markdown",
   "metadata": {},
   "source": [
    "# Package \n",
    "\n",
    "- 하나의 대형 프로젝트를 만드는 코드의 묶음  \n",
    "- 다양한 모듈들의 합, 폴더로 연결됨\n",
    "- __init__, __main__ 등 키워드 파일명이 사용됨  \n"
   ]
  },
  {
   "cell_type": "code",
   "execution_count": null,
   "metadata": {},
   "outputs": [],
   "source": []
  }
 ],
 "metadata": {
  "kernelspec": {
   "display_name": "Python 3",
   "language": "python",
   "name": "python3"
  },
  "language_info": {
   "codemirror_mode": {
    "name": "ipython",
    "version": 3
   },
   "file_extension": ".py",
   "mimetype": "text/x-python",
   "name": "python",
   "nbconvert_exporter": "python",
   "pygments_lexer": "ipython3",
   "version": "3.7.0"
  }
 },
 "nbformat": 4,
 "nbformat_minor": 2
}
